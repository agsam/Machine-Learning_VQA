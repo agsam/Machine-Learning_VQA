{
  "nbformat": 4,
  "nbformat_minor": 0,
  "metadata": {
    "colab": {
      "name": "VisualQA_ROC.ipynb",
      "provenance": [],
      "collapsed_sections": []
    },
    "kernelspec": {
      "name": "python3",
      "display_name": "Python 3"
    },
    "accelerator": "GPU"
  },
  "cells": [
    {
      "cell_type": "code",
      "metadata": {
        "id": "IJlQdR6ak_Vj",
        "colab_type": "code",
        "outputId": "ec17729a-5e15-4527-a358-5e7b4f1ce8a0",
        "colab": {
          "base_uri": "https://localhost:8080/",
          "height": 108
        }
      },
      "source": [
        "# Installing the package that contains the dataset\n",
        "!pip install easy-vqa"
      ],
      "execution_count": 0,
      "outputs": [
        {
          "output_type": "stream",
          "text": [
            "Collecting easy-vqa\n",
            "\u001b[?25l  Downloading https://files.pythonhosted.org/packages/32/e7/dbdd733ea110ff04c8b0b7ce7d49acce06f1dd18ed304d9f8f9b3f26c1a3/easy_vqa-1.0-py3-none-any.whl (3.2MB)\n",
            "\u001b[K     |████████████████████████████████| 3.2MB 12.9MB/s \n",
            "\u001b[?25hInstalling collected packages: easy-vqa\n",
            "Successfully installed easy-vqa-1.0\n"
          ],
          "name": "stdout"
        }
      ]
    },
    {
      "cell_type": "code",
      "metadata": {
        "id": "NemPsqo1lOxX",
        "colab_type": "code",
        "colab": {}
      },
      "source": [
        "import tensorflow as tf\n",
        "from keras.models import Model\n",
        "from keras.layers import Input, Dense, Conv2D, MaxPooling2D, Flatten, Multiply\n",
        "from keras.optimizers import Adam\n",
        "from keras.preprocessing.text import Tokenizer\n",
        "from keras.preprocessing.image import load_img, img_to_array\n",
        "from keras.utils import to_categorical\n",
        "from keras.callbacks import ModelCheckpoint\n",
        "from easy_vqa import get_train_questions, get_test_questions, get_train_image_paths, get_test_image_paths, get_answers"
      ],
      "execution_count": 0,
      "outputs": []
    },
    {
      "cell_type": "code",
      "metadata": {
        "id": "iYoFPkMYldMq",
        "colab_type": "code",
        "colab": {}
      },
      "source": [
        "def build_model(im_shape, vocab_size, num_answers):\n",
        "  \n",
        "  # Image encoder\n",
        "  im_input = Input(shape=im_shape)\n",
        "  x1 = Conv2D(8, 3, padding='same')(im_input)\n",
        "  x1 = MaxPooling2D()(x1)\n",
        "  x1 = Conv2D(16, 3, padding='same')(x1)\n",
        "  x1 = MaxPooling2D()(x1)\n",
        "  x1 = Conv2D(32, 3, padding='same')(x1)\n",
        "  x1 = MaxPooling2D()(x1)\n",
        "  x1 = Conv2D(64, 3, padding='same')(x1)\n",
        "  x1 = MaxPooling2D()(x1)\n",
        "  x1 = Flatten()(x1)\n",
        "  img_emb = Dense(64, activation='relu')(x1)\n",
        "\n",
        "  # Question encoder\n",
        "  q_input = Input(shape=(vocab_size,))\n",
        "  x2 = Dense(64, activation='relu')(q_input)\n",
        "  ques_emb = Dense(64, activation='relu')(x2)\n",
        "\n",
        "  # Merging the outputs\n",
        "  out = Multiply()([img_emb, ques_emb])\n",
        "  out = Dense(32, activation='relu')(out)\n",
        "  out = Dense(num_answers, activation='softmax')(out)\n",
        "\n",
        "  model = Model(inputs=[im_input, q_input], outputs=out)\n",
        "  model.compile(Adam(lr=2e-4), loss='categorical_crossentropy',metrics=[tf.keras.metrics.AUC(curve='ROC'), 'accuracy'])\n",
        "\n",
        "  return model"
      ],
      "execution_count": 0,
      "outputs": []
    },
    {
      "cell_type": "code",
      "metadata": {
        "id": "nF8GgyTMl2Zt",
        "colab_type": "code",
        "colab": {}
      },
      "source": [
        "def setup():\n",
        "  \n",
        "  #Reading Questions\n",
        "  print('\\n--- Reading questions...')\n",
        "  train_qs, train_answers, train_image_ids = get_train_questions()\n",
        "  test_qs, test_answers, test_image_ids = get_test_questions()\n",
        "  print(f'Read {len(train_qs)} training questions and {len(test_qs)} testing questions.')\n",
        "\n",
        "  # Reading Answers \n",
        "  print('\\n--- Reading answers...')\n",
        "  all_answers = get_answers()\n",
        "  num_answers = len(all_answers)\n",
        "  print(f'Found {num_answers} total answers:')\n",
        "  print(all_answers)\n",
        "\n",
        "  \n",
        "  print('\\n--- Reading and pre-processing images...')\n",
        "  def load_and_proccess_image(image_path):\n",
        "    # Load image, then scale and shift pixel values to [-0.5, 0.5]\n",
        "    im = img_to_array(load_img(image_path))\n",
        "    return im / 255 - 0.5\n",
        "\n",
        "  def read_images(paths):\n",
        "    # paths is a dict mapping image ID to image path\n",
        "    # Returns a dict mapping image ID to the processed image\n",
        "    ims = {}\n",
        "    for image_id, image_path in paths.items():\n",
        "      ims[image_id] = load_and_proccess_image(image_path)\n",
        "    return ims\n",
        "\n",
        "  # Reading images \n",
        "  train_ims = read_images(get_train_image_paths())\n",
        "  test_ims = read_images(get_test_image_paths())\n",
        "  im_shape = train_ims[0].shape\n",
        "  print(f'Read {len(train_ims)} training images and {len(test_ims)} testing images.')\n",
        "  print(f'Each image has shape {im_shape}.')\n",
        "\n",
        "\n",
        "  print('\\n--- Fitting question tokenizer...')\n",
        "  tokenizer = Tokenizer()\n",
        "  tokenizer.fit_on_texts(train_qs)\n",
        "\n",
        "  # Adding one because the Keras Tokenizer reserves index 0 and never uses it.\n",
        "  vocab_size = len(tokenizer.word_index) + 1\n",
        "  print(f'Vocab Size: {vocab_size}')\n",
        "  print(tokenizer.word_index)\n",
        "\n",
        "\n",
        "  # Converting questions to bags of words\n",
        "  train_X_seqs = tokenizer.texts_to_matrix(train_qs)\n",
        "  test_X_seqs = tokenizer.texts_to_matrix(test_qs)\n",
        "  \n",
        "\n",
        "  # Creating model input images\n",
        "  train_X_ims = [train_ims[id] for id in train_image_ids]\n",
        "  test_X_ims = [test_ims[id] for id in test_image_ids]\n",
        "\n",
        "\n",
        "  # Creating model outputs\n",
        "  train_answer_indices = [all_answers.index(a) for a in train_answers]\n",
        "  test_answer_indices = [all_answers.index(a) for a in test_answers]\n",
        "  train_Y = to_categorical(train_answer_indices)\n",
        "  test_Y = to_categorical(test_answer_indices)\n",
        "\n",
        "  return (train_X_ims, train_X_seqs, train_Y, test_X_ims, test_X_seqs,\n",
        "          test_Y, im_shape, vocab_size, num_answers)  "
      ],
      "execution_count": 0,
      "outputs": []
    },
    {
      "cell_type": "code",
      "metadata": {
        "id": "HIqAJDVIngCA",
        "colab_type": "code",
        "outputId": "2e291218-69f1-482a-d824-5744391561b6",
        "colab": {
          "base_uri": "https://localhost:8080/",
          "height": 1000
        }
      },
      "source": [
        "# Preparing the data\n",
        "from sklearn.metrics import roc_curve, auc\n",
        "train_X_ims, train_X_seqs, train_Y, test_X_ims, test_X_seqs, test_Y, im_shape, vocab_size, num_answers = setup()\n",
        "\n",
        "# Building the model\n",
        "model = build_model(im_shape, vocab_size, num_answers)\n",
        "checkpoint = ModelCheckpoint('model.h5', save_best_only=True)\n",
        "\n",
        "print('\\n--- Training the model...')\n",
        "history = model.fit(\n",
        "  [train_X_ims, train_X_seqs],\n",
        "  train_Y,\n",
        "  validation_data=([test_X_ims, test_X_seqs], test_Y),\n",
        "  shuffle=True,\n",
        "  epochs=50,\n",
        "  callbacks=[checkpoint],\n",
        ")"
      ],
      "execution_count": 0,
      "outputs": [
        {
          "output_type": "stream",
          "text": [
            "\n",
            "--- Reading questions...\n",
            "Read 38575 training questions and 9673 testing questions.\n",
            "\n",
            "--- Reading answers...\n",
            "Found 13 total answers:\n",
            "['circle', 'green', 'red', 'gray', 'yes', 'teal', 'black', 'rectangle', 'yellow', 'triangle', 'brown', 'blue', 'no']\n",
            "\n",
            "--- Reading and pre-processing images...\n",
            "Read 4000 training images and 1000 testing images.\n",
            "Each image has shape (64, 64, 3).\n",
            "\n",
            "--- Fitting question tokenizer...\n",
            "Vocab Size: 27\n",
            "{'is': 1, 'shape': 2, 'the': 3, 'a': 4, 'image': 5, 'there': 6, 'not': 7, 'what': 8, 'present': 9, 'does': 10, 'contain': 11, 'in': 12, 'color': 13, 'no': 14, 'circle': 15, 'rectangle': 16, 'triangle': 17, 'brown': 18, 'yellow': 19, 'gray': 20, 'teal': 21, 'black': 22, 'red': 23, 'green': 24, 'blue': 25, 'of': 26}\n",
            "\n",
            "--- Training the model...\n",
            "Train on 38575 samples, validate on 9673 samples\n",
            "Epoch 1/50\n",
            "38575/38575 [==============================] - 11s 273us/step - loss: 0.9181 - auc_1: 0.9310 - accuracy: 0.6348 - val_loss: 0.7584 - val_auc_1: 0.9636 - val_accuracy: 0.6722\n",
            "Epoch 2/50\n",
            "38575/38575 [==============================] - 10s 262us/step - loss: 0.7310 - auc_1: 0.9675 - accuracy: 0.6819 - val_loss: 0.6985 - val_auc_1: 0.9703 - val_accuracy: 0.6938\n",
            "Epoch 3/50\n",
            "38575/38575 [==============================] - 10s 263us/step - loss: 0.6419 - auc_1: 0.9725 - accuracy: 0.7125 - val_loss: 0.5927 - val_auc_1: 0.9745 - val_accuracy: 0.7342\n",
            "Epoch 4/50\n",
            "38575/38575 [==============================] - 10s 260us/step - loss: 0.5453 - auc_1: 0.9762 - accuracy: 0.7497 - val_loss: 0.4956 - val_auc_1: 0.9779 - val_accuracy: 0.7747\n",
            "Epoch 5/50\n",
            "38575/38575 [==============================] - 10s 258us/step - loss: 0.4643 - auc_1: 0.9794 - accuracy: 0.7763 - val_loss: 0.4421 - val_auc_1: 0.9807 - val_accuracy: 0.7874\n",
            "Epoch 6/50\n",
            "38575/38575 [==============================] - 10s 259us/step - loss: 0.4182 - auc_1: 0.9819 - accuracy: 0.7948 - val_loss: 0.3990 - val_auc_1: 0.9829 - val_accuracy: 0.8071\n",
            "Epoch 7/50\n",
            "38575/38575 [==============================] - 10s 265us/step - loss: 0.3808 - auc_1: 0.9838 - accuracy: 0.8098 - val_loss: 0.3699 - val_auc_1: 0.9846 - val_accuracy: 0.8154\n",
            "Epoch 8/50\n",
            "38575/38575 [==============================] - 10s 258us/step - loss: 0.3495 - auc_1: 0.9854 - accuracy: 0.8254 - val_loss: 0.3446 - val_auc_1: 0.9861 - val_accuracy: 0.8252\n",
            "Epoch 9/50\n",
            "38575/38575 [==============================] - 10s 262us/step - loss: 0.3228 - auc_1: 0.9867 - accuracy: 0.8382 - val_loss: 0.3308 - val_auc_1: 0.9872 - val_accuracy: 0.8337\n",
            "Epoch 10/50\n",
            "38575/38575 [==============================] - 10s 259us/step - loss: 0.3007 - auc_1: 0.9878 - accuracy: 0.8505 - val_loss: 0.3080 - val_auc_1: 0.9882 - val_accuracy: 0.8448\n",
            "Epoch 11/50\n",
            "38575/38575 [==============================] - 10s 257us/step - loss: 0.2817 - auc_1: 0.9887 - accuracy: 0.8599 - val_loss: 0.3113 - val_auc_1: 0.9891 - val_accuracy: 0.8470\n",
            "Epoch 12/50\n",
            "38575/38575 [==============================] - 10s 252us/step - loss: 0.2608 - auc_1: 0.9895 - accuracy: 0.8724 - val_loss: 0.2693 - val_auc_1: 0.9899 - val_accuracy: 0.8638\n",
            "Epoch 13/50\n",
            "38575/38575 [==============================] - 10s 255us/step - loss: 0.2433 - auc_1: 0.9902 - accuracy: 0.8817 - val_loss: 0.2576 - val_auc_1: 0.9906 - val_accuracy: 0.8708\n",
            "Epoch 14/50\n",
            "38575/38575 [==============================] - 10s 251us/step - loss: 0.2214 - auc_1: 0.9909 - accuracy: 0.8942 - val_loss: 0.2431 - val_auc_1: 0.9912 - val_accuracy: 0.8834\n",
            "Epoch 15/50\n",
            "38575/38575 [==============================] - 10s 251us/step - loss: 0.2052 - auc_1: 0.9915 - accuracy: 0.9027 - val_loss: 0.2321 - val_auc_1: 0.9917 - val_accuracy: 0.8931\n",
            "Epoch 16/50\n",
            "38575/38575 [==============================] - 10s 254us/step - loss: 0.1850 - auc_1: 0.9920 - accuracy: 0.9126 - val_loss: 0.2172 - val_auc_1: 0.9923 - val_accuracy: 0.8975\n",
            "Epoch 17/50\n",
            "38575/38575 [==============================] - 10s 255us/step - loss: 0.1681 - auc_1: 0.9925 - accuracy: 0.9223 - val_loss: 0.1909 - val_auc_1: 0.9928 - val_accuracy: 0.9086\n",
            "Epoch 18/50\n",
            "38575/38575 [==============================] - 10s 252us/step - loss: 0.1491 - auc_1: 0.9930 - accuracy: 0.9315 - val_loss: 0.1985 - val_auc_1: 0.9932 - val_accuracy: 0.9105\n",
            "Epoch 19/50\n",
            "38575/38575 [==============================] - 10s 250us/step - loss: 0.1322 - auc_1: 0.9934 - accuracy: 0.9405 - val_loss: 0.1487 - val_auc_1: 0.9937 - val_accuracy: 0.9329\n",
            "Epoch 20/50\n",
            "38575/38575 [==============================] - 10s 250us/step - loss: 0.1117 - auc_1: 0.9939 - accuracy: 0.9517 - val_loss: 0.1395 - val_auc_1: 0.9941 - val_accuracy: 0.9359\n",
            "Epoch 21/50\n",
            "38575/38575 [==============================] - 10s 249us/step - loss: 0.0928 - auc_1: 0.9943 - accuracy: 0.9610 - val_loss: 0.1295 - val_auc_1: 0.9945 - val_accuracy: 0.9454\n",
            "Epoch 22/50\n",
            "38575/38575 [==============================] - 10s 250us/step - loss: 0.0810 - auc_1: 0.9946 - accuracy: 0.9663 - val_loss: 0.1214 - val_auc_1: 0.9948 - val_accuracy: 0.9504\n",
            "Epoch 23/50\n",
            "38575/38575 [==============================] - 10s 255us/step - loss: 0.0644 - auc_1: 0.9950 - accuracy: 0.9743 - val_loss: 0.1508 - val_auc_1: 0.9952 - val_accuracy: 0.9499\n",
            "Epoch 24/50\n",
            "38575/38575 [==============================] - 10s 250us/step - loss: 0.0556 - auc_1: 0.9953 - accuracy: 0.9786 - val_loss: 0.0878 - val_auc_1: 0.9955 - val_accuracy: 0.9644\n",
            "Epoch 25/50\n",
            "38575/38575 [==============================] - 10s 252us/step - loss: 0.0441 - auc_1: 0.9956 - accuracy: 0.9838 - val_loss: 0.0937 - val_auc_1: 0.9957 - val_accuracy: 0.9623\n",
            "Epoch 26/50\n",
            "38575/38575 [==============================] - 10s 251us/step - loss: 0.0396 - auc_1: 0.9959 - accuracy: 0.9853 - val_loss: 0.0676 - val_auc_1: 0.9960 - val_accuracy: 0.9773\n",
            "Epoch 27/50\n",
            "38575/38575 [==============================] - 10s 249us/step - loss: 0.0321 - auc_1: 0.9961 - accuracy: 0.9882 - val_loss: 0.0617 - val_auc_1: 0.9963 - val_accuracy: 0.9782\n",
            "Epoch 28/50\n",
            "38575/38575 [==============================] - 10s 249us/step - loss: 0.0263 - auc_1: 0.9964 - accuracy: 0.9914 - val_loss: 0.0607 - val_auc_1: 0.9965 - val_accuracy: 0.9803\n",
            "Epoch 29/50\n",
            "38575/38575 [==============================] - 10s 248us/step - loss: 0.0254 - auc_1: 0.9966 - accuracy: 0.9924 - val_loss: 0.0738 - val_auc_1: 0.9967 - val_accuracy: 0.9733\n",
            "Epoch 30/50\n",
            "38575/38575 [==============================] - 10s 261us/step - loss: 0.0207 - auc_1: 0.9968 - accuracy: 0.9938 - val_loss: 0.0381 - val_auc_1: 0.9969 - val_accuracy: 0.9877\n",
            "Epoch 31/50\n",
            "38575/38575 [==============================] - 10s 249us/step - loss: 0.0206 - auc_1: 0.9969 - accuracy: 0.9934 - val_loss: 0.0471 - val_auc_1: 0.9970 - val_accuracy: 0.9850\n",
            "Epoch 32/50\n",
            "38575/38575 [==============================] - 10s 247us/step - loss: 0.0119 - auc_1: 0.9971 - accuracy: 0.9964 - val_loss: 0.0395 - val_auc_1: 0.9972 - val_accuracy: 0.9886\n",
            "Epoch 33/50\n",
            "38575/38575 [==============================] - 10s 248us/step - loss: 0.0175 - auc_1: 0.9973 - accuracy: 0.9949 - val_loss: 0.0536 - val_auc_1: 0.9973 - val_accuracy: 0.9838\n",
            "Epoch 34/50\n",
            "38575/38575 [==============================] - 10s 252us/step - loss: 0.0149 - auc_1: 0.9974 - accuracy: 0.9952 - val_loss: 0.0418 - val_auc_1: 0.9975 - val_accuracy: 0.9872\n",
            "Epoch 35/50\n",
            "38575/38575 [==============================] - 10s 247us/step - loss: 0.0081 - auc_1: 0.9975 - accuracy: 0.9975 - val_loss: 0.0622 - val_auc_1: 0.9976 - val_accuracy: 0.9802\n",
            "Epoch 36/50\n",
            "38575/38575 [==============================] - 10s 247us/step - loss: 0.0184 - auc_1: 0.9976 - accuracy: 0.9949 - val_loss: 0.0465 - val_auc_1: 0.9977 - val_accuracy: 0.9851\n",
            "Epoch 37/50\n",
            "38575/38575 [==============================] - 10s 246us/step - loss: 0.0049 - auc_1: 0.9978 - accuracy: 0.9988 - val_loss: 0.0594 - val_auc_1: 0.9978 - val_accuracy: 0.9841\n",
            "Epoch 38/50\n",
            "38575/38575 [==============================] - 10s 249us/step - loss: 0.0124 - auc_1: 0.9979 - accuracy: 0.9961 - val_loss: 0.0613 - val_auc_1: 0.9979 - val_accuracy: 0.9853\n",
            "Epoch 39/50\n",
            "38575/38575 [==============================] - 10s 251us/step - loss: 0.0034 - auc_1: 0.9979 - accuracy: 0.9993 - val_loss: 0.0329 - val_auc_1: 0.9980 - val_accuracy: 0.9889\n",
            "Epoch 40/50\n",
            "38575/38575 [==============================] - 10s 247us/step - loss: 0.0138 - auc_1: 0.9980 - accuracy: 0.9956 - val_loss: 0.0393 - val_auc_1: 0.9981 - val_accuracy: 0.9898\n",
            "Epoch 41/50\n",
            "38575/38575 [==============================] - 9s 246us/step - loss: 0.0044 - auc_1: 0.9981 - accuracy: 0.9986 - val_loss: 0.0339 - val_auc_1: 0.9981 - val_accuracy: 0.9895\n",
            "Epoch 42/50\n",
            "38575/38575 [==============================] - 10s 250us/step - loss: 0.0017 - auc_1: 0.9982 - accuracy: 0.9997 - val_loss: 0.0243 - val_auc_1: 0.9982 - val_accuracy: 0.9928\n",
            "Epoch 43/50\n",
            "38575/38575 [==============================] - 10s 249us/step - loss: 0.0161 - auc_1: 0.9983 - accuracy: 0.9952 - val_loss: 0.0327 - val_auc_1: 0.9983 - val_accuracy: 0.9914\n",
            "Epoch 44/50\n",
            "38575/38575 [==============================] - 10s 247us/step - loss: 0.0044 - auc_1: 0.9983 - accuracy: 0.9990 - val_loss: 0.0280 - val_auc_1: 0.9984 - val_accuracy: 0.9928\n",
            "Epoch 45/50\n",
            "38575/38575 [==============================] - 10s 249us/step - loss: 0.0063 - auc_1: 0.9984 - accuracy: 0.9984 - val_loss: 0.0323 - val_auc_1: 0.9984 - val_accuracy: 0.9902\n",
            "Epoch 46/50\n",
            "38575/38575 [==============================] - 10s 248us/step - loss: 0.0104 - auc_1: 0.9984 - accuracy: 0.9975 - val_loss: 0.0686 - val_auc_1: 0.9985 - val_accuracy: 0.9831\n",
            "Epoch 47/50\n",
            "38575/38575 [==============================] - 10s 248us/step - loss: 0.0039 - auc_1: 0.9985 - accuracy: 0.9989 - val_loss: 0.0227 - val_auc_1: 0.9985 - val_accuracy: 0.9931\n",
            "Epoch 48/50\n",
            "38575/38575 [==============================] - 10s 249us/step - loss: 5.8509e-04 - auc_1: 0.9985 - accuracy: 1.0000 - val_loss: 0.0224 - val_auc_1: 0.9986 - val_accuracy: 0.9928\n",
            "Epoch 49/50\n",
            "38575/38575 [==============================] - 10s 248us/step - loss: 0.0124 - auc_1: 0.9986 - accuracy: 0.9971 - val_loss: 0.0393 - val_auc_1: 0.9986 - val_accuracy: 0.9888\n",
            "Epoch 50/50\n",
            "38575/38575 [==============================] - 10s 248us/step - loss: 0.0068 - auc_1: 0.9986 - accuracy: 0.9983 - val_loss: 0.0194 - val_auc_1: 0.9987 - val_accuracy: 0.9936\n"
          ],
          "name": "stdout"
        }
      ]
    },
    {
      "cell_type": "code",
      "metadata": {
        "id": "wVAGBpWhoF5o",
        "colab_type": "code",
        "outputId": "edf3bce5-cf47-4729-82f5-fccadbab8b3a",
        "colab": {
          "base_uri": "https://localhost:8080/",
          "height": 295
        }
      },
      "source": [
        "from matplotlib import pyplot as plt\n",
        "plt.plot(history.history['auc_1'])\n",
        "plt.plot(history.history['val_auc_1'])\n",
        "plt.title('MODEL AUC')\n",
        "plt.ylabel('AUC')\n",
        "plt.xlabel('No. of epochs')\n",
        "plt.legend(['train', 'val'], loc='upper left')\n",
        "plt.show()"
      ],
      "execution_count": 0,
      "outputs": [
        {
          "output_type": "display_data",
          "data": {
            "image/png": "[encoded data removed]",
            "text/plain": [
              "<Figure size 432x288 with 1 Axes>"
            ]
          },
          "metadata": {
            "tags": [],
            "needs_background": "light"
          }
        }
      ]
    },
    {
      "cell_type": "code",
      "metadata": {
        "id": "iMyKsJ87Vgwl",
        "colab_type": "code",
        "outputId": "bcad1fc8-61b6-4aad-cf3a-e27f658b276d",
        "colab": {
          "base_uri": "https://localhost:8080/",
          "height": 295
        }
      },
      "source": [
        "from matplotlib import pyplot as plt\n",
        "plt.plot(history.history['accuracy'])\n",
        "plt.plot(history.history['val_accuracy'])\n",
        "plt.title('MODEL ACCURACY')\n",
        "plt.ylabel('Accuracy')\n",
        "plt.xlabel('No. of epochs')\n",
        "plt.legend(['train', 'val'], loc='upper left')\n",
        "plt.show()"
      ],
      "execution_count": 0,
      "outputs": [
        {
          "output_type": "display_data",
          "data": {
            "image/png": "[encoded data removed]",
            "text/plain": [
              "<Figure size 432x288 with 1 Axes>"
            ]
          },
          "metadata": {
            "tags": [],
            "needs_background": "light"
          }
        }
      ]
    },
    {
      "cell_type": "code",
      "metadata": {
        "id": "yTsg62MKpor7",
        "colab_type": "code",
        "outputId": "114a2dc9-841d-41d9-87c8-6953514d31a4",
        "colab": {
          "base_uri": "https://localhost:8080/",
          "height": 295
        }
      },
      "source": [
        "plt.plot(history.history['loss'])\n",
        "plt.plot(history.history['val_loss'])\n",
        "plt.title('MODEL LOSS')\n",
        "plt.ylabel('Loss')\n",
        "plt.xlabel('No. of epochs')\n",
        "plt.legend(['train', 'val'], loc='upper left')\n",
        "plt.show()"
      ],
      "execution_count": 0,
      "outputs": [
        {
          "output_type": "display_data",
          "data": {
            "image/png": "[encoded data removed]",
            "text/plain": [
              "<Figure size 432x288 with 1 Axes>"
            ]
          },
          "metadata": {
            "tags": [],
            "needs_background": "light"
          }
        }
      ]
    },
    {
      "cell_type": "code",
      "metadata": {
        "id": "zDIfqy8uqIPR",
        "colab_type": "code",
        "colab": {}
      },
      "source": [
        ""
      ],
      "execution_count": 0,
      "outputs": []
    }
  ]
}